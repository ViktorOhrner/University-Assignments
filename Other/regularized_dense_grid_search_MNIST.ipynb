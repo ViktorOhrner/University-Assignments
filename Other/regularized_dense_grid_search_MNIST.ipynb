{
 "cells": [
  {
   "cell_type": "code",
   "execution_count": 1,
   "id": "7c82987b",
   "metadata": {
    "_cell_guid": "b1076dfc-b9ad-4769-8c92-a6c4dae69d19",
    "_uuid": "8f2839f25d086af736a60e9eeb907d3b93b6e0e5",
    "execution": {
     "iopub.execute_input": "2022-10-06T09:27:53.961733Z",
     "iopub.status.busy": "2022-10-06T09:27:53.961270Z",
     "iopub.status.idle": "2022-10-06T09:28:00.157617Z",
     "shell.execute_reply": "2022-10-06T09:28:00.156198Z"
    },
    "papermill": {
     "duration": 6.209682,
     "end_time": "2022-10-06T09:28:00.160470",
     "exception": false,
     "start_time": "2022-10-06T09:27:53.950788",
     "status": "completed"
    },
    "tags": []
   },
   "outputs": [
    {
     "name": "stdout",
     "output_type": "stream",
     "text": [
      "/kaggle/input/fashionmnist/t10k-labels-idx1-ubyte\n",
      "/kaggle/input/fashionmnist/t10k-images-idx3-ubyte\n",
      "/kaggle/input/fashionmnist/fashion-mnist_test.csv\n",
      "/kaggle/input/fashionmnist/fashion-mnist_train.csv\n",
      "/kaggle/input/fashionmnist/train-labels-idx1-ubyte\n",
      "/kaggle/input/fashionmnist/train-images-idx3-ubyte\n"
     ]
    }
   ],
   "source": [
    "# This Python 3 environment comes with many helpful analytics libraries installed\n",
    "# It is defined by the kaggle/python Docker image: https://github.com/kaggle/docker-python\n",
    "# For example, here's several helpful packages to load\n",
    "\n",
    "import numpy as np # linear algebra\n",
    "import pandas as pd # data processing, CSV file I/O (e.g. pd.read_csv)\n",
    "import matplotlib.pyplot as plt\n",
    "from tensorflow import keras\n",
    "\n",
    "\n",
    "# Input data files are available in the read-only \"../input/\" directory\n",
    "# For example, running this (by clicking run or pressing Shift+Enter) will list all files under the input directory\n",
    "\n",
    "import os\n",
    "for dirname, _, filenames in os.walk('/kaggle/input'):\n",
    "    for filename in filenames:\n",
    "        print(os.path.join(dirname, filename))\n",
    "\n",
    "# You can write up to 20GB to the current directory (/kaggle/working/) that gets preserved as output when you create a version using \"Save & Run All\" \n",
    "# You can also write temporary files to /kaggle/temp/, but they won't be saved outside of the current session"
   ]
  },
  {
   "cell_type": "code",
   "execution_count": 2,
   "id": "ce421f0b",
   "metadata": {
    "execution": {
     "iopub.execute_input": "2022-10-06T09:28:00.175386Z",
     "iopub.status.busy": "2022-10-06T09:28:00.174486Z",
     "iopub.status.idle": "2022-10-06T09:28:01.311618Z",
     "shell.execute_reply": "2022-10-06T09:28:01.309905Z"
    },
    "papermill": {
     "duration": 1.147974,
     "end_time": "2022-10-06T09:28:01.314628",
     "exception": false,
     "start_time": "2022-10-06T09:28:00.166654",
     "status": "completed"
    },
    "tags": []
   },
   "outputs": [
    {
     "name": "stdout",
     "output_type": "stream",
     "text": [
      "__notebook__.ipynb\r\n"
     ]
    }
   ],
   "source": [
    "%ls"
   ]
  },
  {
   "cell_type": "code",
   "execution_count": 3,
   "id": "4d22b25c",
   "metadata": {
    "execution": {
     "iopub.execute_input": "2022-10-06T09:28:01.329010Z",
     "iopub.status.busy": "2022-10-06T09:28:01.328446Z",
     "iopub.status.idle": "2022-10-06T09:28:01.335095Z",
     "shell.execute_reply": "2022-10-06T09:28:01.333704Z"
    },
    "papermill": {
     "duration": 0.017216,
     "end_time": "2022-10-06T09:28:01.337905",
     "exception": false,
     "start_time": "2022-10-06T09:28:01.320689",
     "status": "completed"
    },
    "tags": []
   },
   "outputs": [],
   "source": [
    "train_path = \"../input/fashionmnist/fashion-mnist_train.csv\"\n",
    "test_path = \"../input/fashionmnist/fashion-mnist_test.csv\""
   ]
  },
  {
   "cell_type": "code",
   "execution_count": 4,
   "id": "e768764c",
   "metadata": {
    "execution": {
     "iopub.execute_input": "2022-10-06T09:28:01.353366Z",
     "iopub.status.busy": "2022-10-06T09:28:01.352861Z",
     "iopub.status.idle": "2022-10-06T09:28:09.728083Z",
     "shell.execute_reply": "2022-10-06T09:28:09.726787Z"
    },
    "papermill": {
     "duration": 8.387688,
     "end_time": "2022-10-06T09:28:09.731730",
     "exception": false,
     "start_time": "2022-10-06T09:28:01.344042",
     "status": "completed"
    },
    "tags": []
   },
   "outputs": [],
   "source": [
    "train_df = pd.read_csv(train_path)\n",
    "test_df = pd.read_csv(test_path)"
   ]
  },
  {
   "cell_type": "code",
   "execution_count": 5,
   "id": "20b9cec7",
   "metadata": {
    "execution": {
     "iopub.execute_input": "2022-10-06T09:28:09.747331Z",
     "iopub.status.busy": "2022-10-06T09:28:09.745766Z",
     "iopub.status.idle": "2022-10-06T09:28:09.785932Z",
     "shell.execute_reply": "2022-10-06T09:28:09.784791Z"
    },
    "papermill": {
     "duration": 0.050537,
     "end_time": "2022-10-06T09:28:09.788585",
     "exception": false,
     "start_time": "2022-10-06T09:28:09.738048",
     "status": "completed"
    },
    "tags": []
   },
   "outputs": [
    {
     "data": {
      "text/html": [
       "<div>\n",
       "<style scoped>\n",
       "    .dataframe tbody tr th:only-of-type {\n",
       "        vertical-align: middle;\n",
       "    }\n",
       "\n",
       "    .dataframe tbody tr th {\n",
       "        vertical-align: top;\n",
       "    }\n",
       "\n",
       "    .dataframe thead th {\n",
       "        text-align: right;\n",
       "    }\n",
       "</style>\n",
       "<table border=\"1\" class=\"dataframe\">\n",
       "  <thead>\n",
       "    <tr style=\"text-align: right;\">\n",
       "      <th></th>\n",
       "      <th>label</th>\n",
       "      <th>pixel1</th>\n",
       "      <th>pixel2</th>\n",
       "      <th>pixel3</th>\n",
       "      <th>pixel4</th>\n",
       "      <th>pixel5</th>\n",
       "      <th>pixel6</th>\n",
       "      <th>pixel7</th>\n",
       "      <th>pixel8</th>\n",
       "      <th>pixel9</th>\n",
       "      <th>...</th>\n",
       "      <th>pixel775</th>\n",
       "      <th>pixel776</th>\n",
       "      <th>pixel777</th>\n",
       "      <th>pixel778</th>\n",
       "      <th>pixel779</th>\n",
       "      <th>pixel780</th>\n",
       "      <th>pixel781</th>\n",
       "      <th>pixel782</th>\n",
       "      <th>pixel783</th>\n",
       "      <th>pixel784</th>\n",
       "    </tr>\n",
       "  </thead>\n",
       "  <tbody>\n",
       "    <tr>\n",
       "      <th>0</th>\n",
       "      <td>2</td>\n",
       "      <td>0</td>\n",
       "      <td>0</td>\n",
       "      <td>0</td>\n",
       "      <td>0</td>\n",
       "      <td>0</td>\n",
       "      <td>0</td>\n",
       "      <td>0</td>\n",
       "      <td>0</td>\n",
       "      <td>0</td>\n",
       "      <td>...</td>\n",
       "      <td>0</td>\n",
       "      <td>0</td>\n",
       "      <td>0</td>\n",
       "      <td>0</td>\n",
       "      <td>0</td>\n",
       "      <td>0</td>\n",
       "      <td>0</td>\n",
       "      <td>0</td>\n",
       "      <td>0</td>\n",
       "      <td>0</td>\n",
       "    </tr>\n",
       "    <tr>\n",
       "      <th>1</th>\n",
       "      <td>9</td>\n",
       "      <td>0</td>\n",
       "      <td>0</td>\n",
       "      <td>0</td>\n",
       "      <td>0</td>\n",
       "      <td>0</td>\n",
       "      <td>0</td>\n",
       "      <td>0</td>\n",
       "      <td>0</td>\n",
       "      <td>0</td>\n",
       "      <td>...</td>\n",
       "      <td>0</td>\n",
       "      <td>0</td>\n",
       "      <td>0</td>\n",
       "      <td>0</td>\n",
       "      <td>0</td>\n",
       "      <td>0</td>\n",
       "      <td>0</td>\n",
       "      <td>0</td>\n",
       "      <td>0</td>\n",
       "      <td>0</td>\n",
       "    </tr>\n",
       "    <tr>\n",
       "      <th>2</th>\n",
       "      <td>6</td>\n",
       "      <td>0</td>\n",
       "      <td>0</td>\n",
       "      <td>0</td>\n",
       "      <td>0</td>\n",
       "      <td>0</td>\n",
       "      <td>0</td>\n",
       "      <td>0</td>\n",
       "      <td>5</td>\n",
       "      <td>0</td>\n",
       "      <td>...</td>\n",
       "      <td>0</td>\n",
       "      <td>0</td>\n",
       "      <td>0</td>\n",
       "      <td>30</td>\n",
       "      <td>43</td>\n",
       "      <td>0</td>\n",
       "      <td>0</td>\n",
       "      <td>0</td>\n",
       "      <td>0</td>\n",
       "      <td>0</td>\n",
       "    </tr>\n",
       "    <tr>\n",
       "      <th>3</th>\n",
       "      <td>0</td>\n",
       "      <td>0</td>\n",
       "      <td>0</td>\n",
       "      <td>0</td>\n",
       "      <td>1</td>\n",
       "      <td>2</td>\n",
       "      <td>0</td>\n",
       "      <td>0</td>\n",
       "      <td>0</td>\n",
       "      <td>0</td>\n",
       "      <td>...</td>\n",
       "      <td>3</td>\n",
       "      <td>0</td>\n",
       "      <td>0</td>\n",
       "      <td>0</td>\n",
       "      <td>0</td>\n",
       "      <td>1</td>\n",
       "      <td>0</td>\n",
       "      <td>0</td>\n",
       "      <td>0</td>\n",
       "      <td>0</td>\n",
       "    </tr>\n",
       "    <tr>\n",
       "      <th>4</th>\n",
       "      <td>3</td>\n",
       "      <td>0</td>\n",
       "      <td>0</td>\n",
       "      <td>0</td>\n",
       "      <td>0</td>\n",
       "      <td>0</td>\n",
       "      <td>0</td>\n",
       "      <td>0</td>\n",
       "      <td>0</td>\n",
       "      <td>0</td>\n",
       "      <td>...</td>\n",
       "      <td>0</td>\n",
       "      <td>0</td>\n",
       "      <td>0</td>\n",
       "      <td>0</td>\n",
       "      <td>0</td>\n",
       "      <td>0</td>\n",
       "      <td>0</td>\n",
       "      <td>0</td>\n",
       "      <td>0</td>\n",
       "      <td>0</td>\n",
       "    </tr>\n",
       "    <tr>\n",
       "      <th>...</th>\n",
       "      <td>...</td>\n",
       "      <td>...</td>\n",
       "      <td>...</td>\n",
       "      <td>...</td>\n",
       "      <td>...</td>\n",
       "      <td>...</td>\n",
       "      <td>...</td>\n",
       "      <td>...</td>\n",
       "      <td>...</td>\n",
       "      <td>...</td>\n",
       "      <td>...</td>\n",
       "      <td>...</td>\n",
       "      <td>...</td>\n",
       "      <td>...</td>\n",
       "      <td>...</td>\n",
       "      <td>...</td>\n",
       "      <td>...</td>\n",
       "      <td>...</td>\n",
       "      <td>...</td>\n",
       "      <td>...</td>\n",
       "      <td>...</td>\n",
       "    </tr>\n",
       "    <tr>\n",
       "      <th>59995</th>\n",
       "      <td>9</td>\n",
       "      <td>0</td>\n",
       "      <td>0</td>\n",
       "      <td>0</td>\n",
       "      <td>0</td>\n",
       "      <td>0</td>\n",
       "      <td>0</td>\n",
       "      <td>0</td>\n",
       "      <td>0</td>\n",
       "      <td>0</td>\n",
       "      <td>...</td>\n",
       "      <td>0</td>\n",
       "      <td>0</td>\n",
       "      <td>0</td>\n",
       "      <td>0</td>\n",
       "      <td>0</td>\n",
       "      <td>0</td>\n",
       "      <td>0</td>\n",
       "      <td>0</td>\n",
       "      <td>0</td>\n",
       "      <td>0</td>\n",
       "    </tr>\n",
       "    <tr>\n",
       "      <th>59996</th>\n",
       "      <td>1</td>\n",
       "      <td>0</td>\n",
       "      <td>0</td>\n",
       "      <td>0</td>\n",
       "      <td>0</td>\n",
       "      <td>0</td>\n",
       "      <td>0</td>\n",
       "      <td>0</td>\n",
       "      <td>0</td>\n",
       "      <td>0</td>\n",
       "      <td>...</td>\n",
       "      <td>73</td>\n",
       "      <td>0</td>\n",
       "      <td>0</td>\n",
       "      <td>0</td>\n",
       "      <td>0</td>\n",
       "      <td>0</td>\n",
       "      <td>0</td>\n",
       "      <td>0</td>\n",
       "      <td>0</td>\n",
       "      <td>0</td>\n",
       "    </tr>\n",
       "    <tr>\n",
       "      <th>59997</th>\n",
       "      <td>8</td>\n",
       "      <td>0</td>\n",
       "      <td>0</td>\n",
       "      <td>0</td>\n",
       "      <td>0</td>\n",
       "      <td>0</td>\n",
       "      <td>0</td>\n",
       "      <td>0</td>\n",
       "      <td>0</td>\n",
       "      <td>0</td>\n",
       "      <td>...</td>\n",
       "      <td>160</td>\n",
       "      <td>162</td>\n",
       "      <td>163</td>\n",
       "      <td>135</td>\n",
       "      <td>94</td>\n",
       "      <td>0</td>\n",
       "      <td>0</td>\n",
       "      <td>0</td>\n",
       "      <td>0</td>\n",
       "      <td>0</td>\n",
       "    </tr>\n",
       "    <tr>\n",
       "      <th>59998</th>\n",
       "      <td>8</td>\n",
       "      <td>0</td>\n",
       "      <td>0</td>\n",
       "      <td>0</td>\n",
       "      <td>0</td>\n",
       "      <td>0</td>\n",
       "      <td>0</td>\n",
       "      <td>0</td>\n",
       "      <td>0</td>\n",
       "      <td>0</td>\n",
       "      <td>...</td>\n",
       "      <td>0</td>\n",
       "      <td>0</td>\n",
       "      <td>0</td>\n",
       "      <td>0</td>\n",
       "      <td>0</td>\n",
       "      <td>0</td>\n",
       "      <td>0</td>\n",
       "      <td>0</td>\n",
       "      <td>0</td>\n",
       "      <td>0</td>\n",
       "    </tr>\n",
       "    <tr>\n",
       "      <th>59999</th>\n",
       "      <td>7</td>\n",
       "      <td>0</td>\n",
       "      <td>0</td>\n",
       "      <td>0</td>\n",
       "      <td>0</td>\n",
       "      <td>0</td>\n",
       "      <td>0</td>\n",
       "      <td>0</td>\n",
       "      <td>0</td>\n",
       "      <td>0</td>\n",
       "      <td>...</td>\n",
       "      <td>0</td>\n",
       "      <td>0</td>\n",
       "      <td>0</td>\n",
       "      <td>0</td>\n",
       "      <td>0</td>\n",
       "      <td>0</td>\n",
       "      <td>0</td>\n",
       "      <td>0</td>\n",
       "      <td>0</td>\n",
       "      <td>0</td>\n",
       "    </tr>\n",
       "  </tbody>\n",
       "</table>\n",
       "<p>60000 rows × 785 columns</p>\n",
       "</div>"
      ],
      "text/plain": [
       "       label  pixel1  pixel2  pixel3  pixel4  pixel5  pixel6  pixel7  pixel8  \\\n",
       "0          2       0       0       0       0       0       0       0       0   \n",
       "1          9       0       0       0       0       0       0       0       0   \n",
       "2          6       0       0       0       0       0       0       0       5   \n",
       "3          0       0       0       0       1       2       0       0       0   \n",
       "4          3       0       0       0       0       0       0       0       0   \n",
       "...      ...     ...     ...     ...     ...     ...     ...     ...     ...   \n",
       "59995      9       0       0       0       0       0       0       0       0   \n",
       "59996      1       0       0       0       0       0       0       0       0   \n",
       "59997      8       0       0       0       0       0       0       0       0   \n",
       "59998      8       0       0       0       0       0       0       0       0   \n",
       "59999      7       0       0       0       0       0       0       0       0   \n",
       "\n",
       "       pixel9  ...  pixel775  pixel776  pixel777  pixel778  pixel779  \\\n",
       "0           0  ...         0         0         0         0         0   \n",
       "1           0  ...         0         0         0         0         0   \n",
       "2           0  ...         0         0         0        30        43   \n",
       "3           0  ...         3         0         0         0         0   \n",
       "4           0  ...         0         0         0         0         0   \n",
       "...       ...  ...       ...       ...       ...       ...       ...   \n",
       "59995       0  ...         0         0         0         0         0   \n",
       "59996       0  ...        73         0         0         0         0   \n",
       "59997       0  ...       160       162       163       135        94   \n",
       "59998       0  ...         0         0         0         0         0   \n",
       "59999       0  ...         0         0         0         0         0   \n",
       "\n",
       "       pixel780  pixel781  pixel782  pixel783  pixel784  \n",
       "0             0         0         0         0         0  \n",
       "1             0         0         0         0         0  \n",
       "2             0         0         0         0         0  \n",
       "3             1         0         0         0         0  \n",
       "4             0         0         0         0         0  \n",
       "...         ...       ...       ...       ...       ...  \n",
       "59995         0         0         0         0         0  \n",
       "59996         0         0         0         0         0  \n",
       "59997         0         0         0         0         0  \n",
       "59998         0         0         0         0         0  \n",
       "59999         0         0         0         0         0  \n",
       "\n",
       "[60000 rows x 785 columns]"
      ]
     },
     "execution_count": 5,
     "metadata": {},
     "output_type": "execute_result"
    }
   ],
   "source": [
    "train_df"
   ]
  },
  {
   "cell_type": "code",
   "execution_count": 6,
   "id": "feb70110",
   "metadata": {
    "execution": {
     "iopub.execute_input": "2022-10-06T09:28:09.803967Z",
     "iopub.status.busy": "2022-10-06T09:28:09.803530Z",
     "iopub.status.idle": "2022-10-06T09:28:09.826717Z",
     "shell.execute_reply": "2022-10-06T09:28:09.825140Z"
    },
    "papermill": {
     "duration": 0.034184,
     "end_time": "2022-10-06T09:28:09.829591",
     "exception": false,
     "start_time": "2022-10-06T09:28:09.795407",
     "status": "completed"
    },
    "tags": []
   },
   "outputs": [
    {
     "data": {
      "text/html": [
       "<div>\n",
       "<style scoped>\n",
       "    .dataframe tbody tr th:only-of-type {\n",
       "        vertical-align: middle;\n",
       "    }\n",
       "\n",
       "    .dataframe tbody tr th {\n",
       "        vertical-align: top;\n",
       "    }\n",
       "\n",
       "    .dataframe thead th {\n",
       "        text-align: right;\n",
       "    }\n",
       "</style>\n",
       "<table border=\"1\" class=\"dataframe\">\n",
       "  <thead>\n",
       "    <tr style=\"text-align: right;\">\n",
       "      <th></th>\n",
       "      <th>label</th>\n",
       "      <th>pixel1</th>\n",
       "      <th>pixel2</th>\n",
       "      <th>pixel3</th>\n",
       "      <th>pixel4</th>\n",
       "      <th>pixel5</th>\n",
       "      <th>pixel6</th>\n",
       "      <th>pixel7</th>\n",
       "      <th>pixel8</th>\n",
       "      <th>pixel9</th>\n",
       "      <th>...</th>\n",
       "      <th>pixel775</th>\n",
       "      <th>pixel776</th>\n",
       "      <th>pixel777</th>\n",
       "      <th>pixel778</th>\n",
       "      <th>pixel779</th>\n",
       "      <th>pixel780</th>\n",
       "      <th>pixel781</th>\n",
       "      <th>pixel782</th>\n",
       "      <th>pixel783</th>\n",
       "      <th>pixel784</th>\n",
       "    </tr>\n",
       "  </thead>\n",
       "  <tbody>\n",
       "    <tr>\n",
       "      <th>0</th>\n",
       "      <td>0</td>\n",
       "      <td>0</td>\n",
       "      <td>0</td>\n",
       "      <td>0</td>\n",
       "      <td>0</td>\n",
       "      <td>0</td>\n",
       "      <td>0</td>\n",
       "      <td>0</td>\n",
       "      <td>9</td>\n",
       "      <td>8</td>\n",
       "      <td>...</td>\n",
       "      <td>103</td>\n",
       "      <td>87</td>\n",
       "      <td>56</td>\n",
       "      <td>0</td>\n",
       "      <td>0</td>\n",
       "      <td>0</td>\n",
       "      <td>0</td>\n",
       "      <td>0</td>\n",
       "      <td>0</td>\n",
       "      <td>0</td>\n",
       "    </tr>\n",
       "    <tr>\n",
       "      <th>1</th>\n",
       "      <td>1</td>\n",
       "      <td>0</td>\n",
       "      <td>0</td>\n",
       "      <td>0</td>\n",
       "      <td>0</td>\n",
       "      <td>0</td>\n",
       "      <td>0</td>\n",
       "      <td>0</td>\n",
       "      <td>0</td>\n",
       "      <td>0</td>\n",
       "      <td>...</td>\n",
       "      <td>34</td>\n",
       "      <td>0</td>\n",
       "      <td>0</td>\n",
       "      <td>0</td>\n",
       "      <td>0</td>\n",
       "      <td>0</td>\n",
       "      <td>0</td>\n",
       "      <td>0</td>\n",
       "      <td>0</td>\n",
       "      <td>0</td>\n",
       "    </tr>\n",
       "    <tr>\n",
       "      <th>2</th>\n",
       "      <td>2</td>\n",
       "      <td>0</td>\n",
       "      <td>0</td>\n",
       "      <td>0</td>\n",
       "      <td>0</td>\n",
       "      <td>0</td>\n",
       "      <td>0</td>\n",
       "      <td>14</td>\n",
       "      <td>53</td>\n",
       "      <td>99</td>\n",
       "      <td>...</td>\n",
       "      <td>0</td>\n",
       "      <td>0</td>\n",
       "      <td>0</td>\n",
       "      <td>0</td>\n",
       "      <td>63</td>\n",
       "      <td>53</td>\n",
       "      <td>31</td>\n",
       "      <td>0</td>\n",
       "      <td>0</td>\n",
       "      <td>0</td>\n",
       "    </tr>\n",
       "    <tr>\n",
       "      <th>3</th>\n",
       "      <td>2</td>\n",
       "      <td>0</td>\n",
       "      <td>0</td>\n",
       "      <td>0</td>\n",
       "      <td>0</td>\n",
       "      <td>0</td>\n",
       "      <td>0</td>\n",
       "      <td>0</td>\n",
       "      <td>0</td>\n",
       "      <td>0</td>\n",
       "      <td>...</td>\n",
       "      <td>137</td>\n",
       "      <td>126</td>\n",
       "      <td>140</td>\n",
       "      <td>0</td>\n",
       "      <td>133</td>\n",
       "      <td>224</td>\n",
       "      <td>222</td>\n",
       "      <td>56</td>\n",
       "      <td>0</td>\n",
       "      <td>0</td>\n",
       "    </tr>\n",
       "    <tr>\n",
       "      <th>4</th>\n",
       "      <td>3</td>\n",
       "      <td>0</td>\n",
       "      <td>0</td>\n",
       "      <td>0</td>\n",
       "      <td>0</td>\n",
       "      <td>0</td>\n",
       "      <td>0</td>\n",
       "      <td>0</td>\n",
       "      <td>0</td>\n",
       "      <td>0</td>\n",
       "      <td>...</td>\n",
       "      <td>0</td>\n",
       "      <td>0</td>\n",
       "      <td>0</td>\n",
       "      <td>0</td>\n",
       "      <td>0</td>\n",
       "      <td>0</td>\n",
       "      <td>0</td>\n",
       "      <td>0</td>\n",
       "      <td>0</td>\n",
       "      <td>0</td>\n",
       "    </tr>\n",
       "    <tr>\n",
       "      <th>...</th>\n",
       "      <td>...</td>\n",
       "      <td>...</td>\n",
       "      <td>...</td>\n",
       "      <td>...</td>\n",
       "      <td>...</td>\n",
       "      <td>...</td>\n",
       "      <td>...</td>\n",
       "      <td>...</td>\n",
       "      <td>...</td>\n",
       "      <td>...</td>\n",
       "      <td>...</td>\n",
       "      <td>...</td>\n",
       "      <td>...</td>\n",
       "      <td>...</td>\n",
       "      <td>...</td>\n",
       "      <td>...</td>\n",
       "      <td>...</td>\n",
       "      <td>...</td>\n",
       "      <td>...</td>\n",
       "      <td>...</td>\n",
       "      <td>...</td>\n",
       "    </tr>\n",
       "    <tr>\n",
       "      <th>9995</th>\n",
       "      <td>0</td>\n",
       "      <td>0</td>\n",
       "      <td>0</td>\n",
       "      <td>0</td>\n",
       "      <td>0</td>\n",
       "      <td>0</td>\n",
       "      <td>0</td>\n",
       "      <td>0</td>\n",
       "      <td>0</td>\n",
       "      <td>0</td>\n",
       "      <td>...</td>\n",
       "      <td>32</td>\n",
       "      <td>23</td>\n",
       "      <td>14</td>\n",
       "      <td>20</td>\n",
       "      <td>0</td>\n",
       "      <td>0</td>\n",
       "      <td>1</td>\n",
       "      <td>0</td>\n",
       "      <td>0</td>\n",
       "      <td>0</td>\n",
       "    </tr>\n",
       "    <tr>\n",
       "      <th>9996</th>\n",
       "      <td>6</td>\n",
       "      <td>0</td>\n",
       "      <td>0</td>\n",
       "      <td>0</td>\n",
       "      <td>0</td>\n",
       "      <td>0</td>\n",
       "      <td>0</td>\n",
       "      <td>0</td>\n",
       "      <td>0</td>\n",
       "      <td>0</td>\n",
       "      <td>...</td>\n",
       "      <td>0</td>\n",
       "      <td>0</td>\n",
       "      <td>0</td>\n",
       "      <td>2</td>\n",
       "      <td>52</td>\n",
       "      <td>23</td>\n",
       "      <td>28</td>\n",
       "      <td>0</td>\n",
       "      <td>0</td>\n",
       "      <td>0</td>\n",
       "    </tr>\n",
       "    <tr>\n",
       "      <th>9997</th>\n",
       "      <td>8</td>\n",
       "      <td>0</td>\n",
       "      <td>0</td>\n",
       "      <td>0</td>\n",
       "      <td>0</td>\n",
       "      <td>0</td>\n",
       "      <td>0</td>\n",
       "      <td>0</td>\n",
       "      <td>0</td>\n",
       "      <td>0</td>\n",
       "      <td>...</td>\n",
       "      <td>175</td>\n",
       "      <td>172</td>\n",
       "      <td>172</td>\n",
       "      <td>182</td>\n",
       "      <td>199</td>\n",
       "      <td>222</td>\n",
       "      <td>42</td>\n",
       "      <td>0</td>\n",
       "      <td>1</td>\n",
       "      <td>0</td>\n",
       "    </tr>\n",
       "    <tr>\n",
       "      <th>9998</th>\n",
       "      <td>8</td>\n",
       "      <td>0</td>\n",
       "      <td>1</td>\n",
       "      <td>3</td>\n",
       "      <td>0</td>\n",
       "      <td>0</td>\n",
       "      <td>0</td>\n",
       "      <td>0</td>\n",
       "      <td>0</td>\n",
       "      <td>0</td>\n",
       "      <td>...</td>\n",
       "      <td>0</td>\n",
       "      <td>0</td>\n",
       "      <td>0</td>\n",
       "      <td>0</td>\n",
       "      <td>0</td>\n",
       "      <td>1</td>\n",
       "      <td>0</td>\n",
       "      <td>0</td>\n",
       "      <td>0</td>\n",
       "      <td>0</td>\n",
       "    </tr>\n",
       "    <tr>\n",
       "      <th>9999</th>\n",
       "      <td>1</td>\n",
       "      <td>0</td>\n",
       "      <td>0</td>\n",
       "      <td>0</td>\n",
       "      <td>0</td>\n",
       "      <td>0</td>\n",
       "      <td>0</td>\n",
       "      <td>0</td>\n",
       "      <td>140</td>\n",
       "      <td>119</td>\n",
       "      <td>...</td>\n",
       "      <td>111</td>\n",
       "      <td>95</td>\n",
       "      <td>75</td>\n",
       "      <td>44</td>\n",
       "      <td>1</td>\n",
       "      <td>0</td>\n",
       "      <td>0</td>\n",
       "      <td>0</td>\n",
       "      <td>0</td>\n",
       "      <td>0</td>\n",
       "    </tr>\n",
       "  </tbody>\n",
       "</table>\n",
       "<p>10000 rows × 785 columns</p>\n",
       "</div>"
      ],
      "text/plain": [
       "      label  pixel1  pixel2  pixel3  pixel4  pixel5  pixel6  pixel7  pixel8  \\\n",
       "0         0       0       0       0       0       0       0       0       9   \n",
       "1         1       0       0       0       0       0       0       0       0   \n",
       "2         2       0       0       0       0       0       0      14      53   \n",
       "3         2       0       0       0       0       0       0       0       0   \n",
       "4         3       0       0       0       0       0       0       0       0   \n",
       "...     ...     ...     ...     ...     ...     ...     ...     ...     ...   \n",
       "9995      0       0       0       0       0       0       0       0       0   \n",
       "9996      6       0       0       0       0       0       0       0       0   \n",
       "9997      8       0       0       0       0       0       0       0       0   \n",
       "9998      8       0       1       3       0       0       0       0       0   \n",
       "9999      1       0       0       0       0       0       0       0     140   \n",
       "\n",
       "      pixel9  ...  pixel775  pixel776  pixel777  pixel778  pixel779  pixel780  \\\n",
       "0          8  ...       103        87        56         0         0         0   \n",
       "1          0  ...        34         0         0         0         0         0   \n",
       "2         99  ...         0         0         0         0        63        53   \n",
       "3          0  ...       137       126       140         0       133       224   \n",
       "4          0  ...         0         0         0         0         0         0   \n",
       "...      ...  ...       ...       ...       ...       ...       ...       ...   \n",
       "9995       0  ...        32        23        14        20         0         0   \n",
       "9996       0  ...         0         0         0         2        52        23   \n",
       "9997       0  ...       175       172       172       182       199       222   \n",
       "9998       0  ...         0         0         0         0         0         1   \n",
       "9999     119  ...       111        95        75        44         1         0   \n",
       "\n",
       "      pixel781  pixel782  pixel783  pixel784  \n",
       "0            0         0         0         0  \n",
       "1            0         0         0         0  \n",
       "2           31         0         0         0  \n",
       "3          222        56         0         0  \n",
       "4            0         0         0         0  \n",
       "...        ...       ...       ...       ...  \n",
       "9995         1         0         0         0  \n",
       "9996        28         0         0         0  \n",
       "9997        42         0         1         0  \n",
       "9998         0         0         0         0  \n",
       "9999         0         0         0         0  \n",
       "\n",
       "[10000 rows x 785 columns]"
      ]
     },
     "execution_count": 6,
     "metadata": {},
     "output_type": "execute_result"
    }
   ],
   "source": [
    "test_df"
   ]
  },
  {
   "cell_type": "code",
   "execution_count": 7,
   "id": "deb8f392",
   "metadata": {
    "execution": {
     "iopub.execute_input": "2022-10-06T09:28:09.846080Z",
     "iopub.status.busy": "2022-10-06T09:28:09.845629Z",
     "iopub.status.idle": "2022-10-06T09:28:09.862222Z",
     "shell.execute_reply": "2022-10-06T09:28:09.860768Z"
    },
    "papermill": {
     "duration": 0.028642,
     "end_time": "2022-10-06T09:28:09.865500",
     "exception": false,
     "start_time": "2022-10-06T09:28:09.836858",
     "status": "completed"
    },
    "tags": []
   },
   "outputs": [
    {
     "name": "stdout",
     "output_type": "stream",
     "text": [
      "nr labels: 10\n",
      "nr pixels: 785\n"
     ]
    }
   ],
   "source": [
    "n_labels = train_df['label'].nunique()\n",
    "print(f\"nr labels: {n_labels}\")\n",
    "n_pixels = train_df.shape[1]\n",
    "print(f\"nr pixels: {n_pixels}\")"
   ]
  },
  {
   "cell_type": "code",
   "execution_count": 8,
   "id": "e84aa217",
   "metadata": {
    "execution": {
     "iopub.execute_input": "2022-10-06T09:28:09.881189Z",
     "iopub.status.busy": "2022-10-06T09:28:09.880720Z",
     "iopub.status.idle": "2022-10-06T09:28:10.311983Z",
     "shell.execute_reply": "2022-10-06T09:28:10.309460Z"
    },
    "papermill": {
     "duration": 0.442933,
     "end_time": "2022-10-06T09:28:10.315360",
     "exception": false,
     "start_time": "2022-10-06T09:28:09.872427",
     "status": "completed"
    },
    "tags": []
   },
   "outputs": [
    {
     "name": "stdout",
     "output_type": "stream",
     "text": [
      "Train dataset size: (55000, 28, 28, 1)\n",
      "Validation dataset size: (5000, 28, 28, 1)\n",
      "Test dataset size: (10000, 28, 28, 1)\n"
     ]
    }
   ],
   "source": [
    "# Split into training and validation\n",
    "train_size = 55000\n",
    "y = train_df.pop(\"label\").values\n",
    "X = train_df.values.astype(np.float32)/255\n",
    "X = X.reshape(60000, 28, 28, 1)\n",
    "X_train, y_train = X[:train_size, :, :, :], y[:train_size]\n",
    "X_val, y_val = X[train_size:, :, :, :], y[train_size:]\n",
    "# Testing\n",
    "y_test = test_df.pop('label').values\n",
    "X_test = test_df.values.astype(np.float32)/255\n",
    "X_test = X_test.reshape(10000, 28, 28, 1)\n",
    "# Print\n",
    "print(f\"Train dataset size: {X_train.shape}\")\n",
    "print(f\"Validation dataset size: {X_val.shape}\")\n",
    "print(f\"Test dataset size: {X_test.shape}\")"
   ]
  },
  {
   "cell_type": "code",
   "execution_count": 9,
   "id": "8af7ac60",
   "metadata": {
    "execution": {
     "iopub.execute_input": "2022-10-06T09:28:10.333526Z",
     "iopub.status.busy": "2022-10-06T09:28:10.332186Z",
     "iopub.status.idle": "2022-10-06T09:28:10.339800Z",
     "shell.execute_reply": "2022-10-06T09:28:10.338818Z"
    },
    "papermill": {
     "duration": 0.019437,
     "end_time": "2022-10-06T09:28:10.342155",
     "exception": false,
     "start_time": "2022-10-06T09:28:10.322718",
     "status": "completed"
    },
    "tags": []
   },
   "outputs": [],
   "source": [
    "labels = [\"T-shirt\",\"Trouser\",\"Pullover\",\"Dress\",\"Coat\",\"Sandal\",\"Shirt\",\"Sneaker\",\"Bag\",\"Ankle boot\"]"
   ]
  },
  {
   "cell_type": "code",
   "execution_count": 10,
   "id": "a02081d2",
   "metadata": {
    "execution": {
     "iopub.execute_input": "2022-10-06T09:28:10.358634Z",
     "iopub.status.busy": "2022-10-06T09:28:10.358151Z",
     "iopub.status.idle": "2022-10-06T09:28:11.522296Z",
     "shell.execute_reply": "2022-10-06T09:28:11.520957Z"
    },
    "papermill": {
     "duration": 1.175452,
     "end_time": "2022-10-06T09:28:11.524768",
     "exception": false,
     "start_time": "2022-10-06T09:28:10.349316",
     "status": "completed"
    },
    "tags": []
   },
   "outputs": [
    {
     "data": {
      "image/png": "[encoded data removed]",
      "text/plain": [
       "<Figure size 432x288 with 18 Axes>"
      ]
     },
     "metadata": {},
     "output_type": "display_data"
    }
   ],
   "source": [
    "rows = 3\n",
    "columns = 6\n",
    "fig, axs = plt.subplots(rows, columns)\n",
    "plt.subplots_adjust(hspace=0.4)\n",
    "for i in range(rows):\n",
    "    for j in range(columns):\n",
    "        idx = np.random.randint(0, high=train_size-1)\n",
    "        axs[i, j].imshow(X_train[idx].reshape(28, 28), cmap='gray')\n",
    "        axs[i, j].set_title(f\"{labels[y_train[idx]]}\")\n",
    "        axs[i, j].set_xticks([])\n",
    "        axs[i, j].set_yticks([])"
   ]
  },
  {
   "cell_type": "code",
   "execution_count": 11,
   "id": "305a4bf3",
   "metadata": {
    "execution": {
     "iopub.execute_input": "2022-10-06T09:28:11.544478Z",
     "iopub.status.busy": "2022-10-06T09:28:11.543970Z",
     "iopub.status.idle": "2022-10-06T09:28:13.068876Z",
     "shell.execute_reply": "2022-10-06T09:28:13.067292Z"
    },
    "papermill": {
     "duration": 1.539375,
     "end_time": "2022-10-06T09:28:13.072229",
     "exception": false,
     "start_time": "2022-10-06T09:28:11.532854",
     "status": "completed"
    },
    "tags": []
   },
   "outputs": [
    {
     "name": "stderr",
     "output_type": "stream",
     "text": [
      "2022-10-06 09:28:12.905366: I tensorflow/core/common_runtime/process_util.cc:146] Creating new thread pool with default inter op setting: 2. Tune using inter_op_parallelism_threads for best performance.\n"
     ]
    }
   ],
   "source": [
    "activation = \"relu\"\n",
    "padding = \"same\"\n",
    "dropout = 0.5\n",
    "\n",
    "model = keras.models.Sequential([\n",
    "    keras.layers.Conv2D(64, 7, activation=activation, padding=padding, input_shape=[28, 28, 1]),\n",
    "    keras.layers.MaxPooling2D(2),\n",
    "    keras.layers.Conv2D(128, 3, activation=activation, padding=padding),\n",
    "    keras.layers.Conv2D(128, 3, activation=activation, padding=padding),\n",
    "    keras.layers.MaxPooling2D(2),\n",
    "    keras.layers.Conv2D(256, 3, activation=activation, padding=padding),\n",
    "    keras.layers.Conv2D(256, 3, activation=activation, padding=padding),\n",
    "    keras.layers.MaxPooling2D(2),\n",
    "    keras.layers.Flatten(),\n",
    "    keras.layers.Dense(128, activation=activation),\n",
    "    keras.layers.Dropout(dropout),\n",
    "    keras.layers.Dense(64, activation=activation),\n",
    "    keras.layers.Dropout(dropout),\n",
    "    keras.layers.Dense(10, activation=\"softmax\")\n",
    "])"
   ]
  },
  {
   "cell_type": "code",
   "execution_count": 12,
   "id": "201001bb",
   "metadata": {
    "execution": {
     "iopub.execute_input": "2022-10-06T09:28:13.090386Z",
     "iopub.status.busy": "2022-10-06T09:28:13.089709Z",
     "iopub.status.idle": "2022-10-06T09:28:13.099252Z",
     "shell.execute_reply": "2022-10-06T09:28:13.097376Z"
    },
    "papermill": {
     "duration": 0.022246,
     "end_time": "2022-10-06T09:28:13.102345",
     "exception": false,
     "start_time": "2022-10-06T09:28:13.080099",
     "status": "completed"
    },
    "tags": []
   },
   "outputs": [
    {
     "name": "stdout",
     "output_type": "stream",
     "text": [
      "Model: \"sequential\"\n",
      "_________________________________________________________________\n",
      "Layer (type)                 Output Shape              Param #   \n",
      "=================================================================\n",
      "conv2d (Conv2D)              (None, 28, 28, 64)        3200      \n",
      "_________________________________________________________________\n",
      "max_pooling2d (MaxPooling2D) (None, 14, 14, 64)        0         \n",
      "_________________________________________________________________\n",
      "conv2d_1 (Conv2D)            (None, 14, 14, 128)       73856     \n",
      "_________________________________________________________________\n",
      "conv2d_2 (Conv2D)            (None, 14, 14, 128)       147584    \n",
      "_________________________________________________________________\n",
      "max_pooling2d_1 (MaxPooling2 (None, 7, 7, 128)         0         \n",
      "_________________________________________________________________\n",
      "conv2d_3 (Conv2D)            (None, 7, 7, 256)         295168    \n",
      "_________________________________________________________________\n",
      "conv2d_4 (Conv2D)            (None, 7, 7, 256)         590080    \n",
      "_________________________________________________________________\n",
      "max_pooling2d_2 (MaxPooling2 (None, 3, 3, 256)         0         \n",
      "_________________________________________________________________\n",
      "flatten (Flatten)            (None, 2304)              0         \n",
      "_________________________________________________________________\n",
      "dense (Dense)                (None, 128)               295040    \n",
      "_________________________________________________________________\n",
      "dropout (Dropout)            (None, 128)               0         \n",
      "_________________________________________________________________\n",
      "dense_1 (Dense)              (None, 64)                8256      \n",
      "_________________________________________________________________\n",
      "dropout_1 (Dropout)          (None, 64)                0         \n",
      "_________________________________________________________________\n",
      "dense_2 (Dense)              (None, 10)                650       \n",
      "=================================================================\n",
      "Total params: 1,413,834\n",
      "Trainable params: 1,413,834\n",
      "Non-trainable params: 0\n",
      "_________________________________________________________________\n"
     ]
    }
   ],
   "source": [
    "model.summary()"
   ]
  },
  {
   "cell_type": "code",
   "execution_count": 13,
   "id": "b65159fe",
   "metadata": {
    "execution": {
     "iopub.execute_input": "2022-10-06T09:28:13.122519Z",
     "iopub.status.busy": "2022-10-06T09:28:13.121968Z",
     "iopub.status.idle": "2022-10-06T09:28:13.143642Z",
     "shell.execute_reply": "2022-10-06T09:28:13.141971Z"
    },
    "papermill": {
     "duration": 0.035417,
     "end_time": "2022-10-06T09:28:13.146522",
     "exception": false,
     "start_time": "2022-10-06T09:28:13.111105",
     "status": "completed"
    },
    "tags": []
   },
   "outputs": [],
   "source": [
    "model.compile(loss=\"sparse_categorical_crossentropy\", optimizer=\"adam\", metrics=[\"accuracy\"])\n",
    "checkpoint_cb = keras.callbacks.ModelCheckpoint(\"/kaggle/working/sequntial_model.h5\", save_best_only=True)\n",
    "early_stopping_cb = keras.callbacks.EarlyStopping(patience=4, restore_best_weights=True)"
   ]
  },
  {
   "cell_type": "code",
   "execution_count": 14,
   "id": "8cb6365b",
   "metadata": {
    "execution": {
     "iopub.execute_input": "2022-10-06T09:28:13.165755Z",
     "iopub.status.busy": "2022-10-06T09:28:13.165273Z",
     "iopub.status.idle": "2022-10-06T11:24:11.186342Z",
     "shell.execute_reply": "2022-10-06T11:24:11.185149Z"
    },
    "papermill": {
     "duration": 6958.03424,
     "end_time": "2022-10-06T11:24:11.189545",
     "exception": false,
     "start_time": "2022-10-06T09:28:13.155305",
     "status": "completed"
    },
    "tags": []
   },
   "outputs": [
    {
     "name": "stderr",
     "output_type": "stream",
     "text": [
      "2022-10-06 09:28:13.647462: I tensorflow/compiler/mlir/mlir_graph_optimization_pass.cc:185] None of the MLIR Optimization Passes are enabled (registered 2)\n"
     ]
    },
    {
     "name": "stdout",
     "output_type": "stream",
     "text": [
      "Epoch 1/20\n",
      "1875/1875 [==============================] - 352s 187ms/step - loss: 0.7443 - accuracy: 0.7313 - val_loss: 0.3726 - val_accuracy: 0.8674\n",
      "Epoch 2/20\n",
      "1875/1875 [==============================] - 348s 185ms/step - loss: 0.4217 - accuracy: 0.8556 - val_loss: 0.3207 - val_accuracy: 0.8848\n",
      "Epoch 3/20\n",
      "1875/1875 [==============================] - 351s 187ms/step - loss: 0.3605 - accuracy: 0.8755 - val_loss: 0.2711 - val_accuracy: 0.8994\n",
      "Epoch 4/20\n",
      "1875/1875 [==============================] - 356s 190ms/step - loss: 0.3266 - accuracy: 0.8900 - val_loss: 0.2592 - val_accuracy: 0.9054\n",
      "Epoch 5/20\n",
      "1875/1875 [==============================] - 355s 190ms/step - loss: 0.3019 - accuracy: 0.8972 - val_loss: 0.2528 - val_accuracy: 0.9068\n",
      "Epoch 6/20\n",
      "1875/1875 [==============================] - 358s 191ms/step - loss: 0.2837 - accuracy: 0.9042 - val_loss: 0.2108 - val_accuracy: 0.9224\n",
      "Epoch 7/20\n",
      "1875/1875 [==============================] - 358s 191ms/step - loss: 0.2630 - accuracy: 0.9098 - val_loss: 0.2177 - val_accuracy: 0.9142\n",
      "Epoch 8/20\n",
      "1875/1875 [==============================] - 359s 191ms/step - loss: 0.2524 - accuracy: 0.9142 - val_loss: 0.1821 - val_accuracy: 0.9322\n",
      "Epoch 9/20\n",
      "1875/1875 [==============================] - 358s 191ms/step - loss: 0.2377 - accuracy: 0.9189 - val_loss: 0.1784 - val_accuracy: 0.9366\n",
      "Epoch 10/20\n",
      "1875/1875 [==============================] - 360s 192ms/step - loss: 0.2287 - accuracy: 0.9212 - val_loss: 0.1794 - val_accuracy: 0.9352\n",
      "Epoch 11/20\n",
      "1875/1875 [==============================] - 354s 189ms/step - loss: 0.2244 - accuracy: 0.9231 - val_loss: 0.1669 - val_accuracy: 0.9404\n",
      "Epoch 12/20\n",
      "1875/1875 [==============================] - 338s 180ms/step - loss: 0.2096 - accuracy: 0.9284 - val_loss: 0.1507 - val_accuracy: 0.9408\n",
      "Epoch 13/20\n",
      "1875/1875 [==============================] - 339s 181ms/step - loss: 0.2032 - accuracy: 0.9303 - val_loss: 0.1517 - val_accuracy: 0.9404\n",
      "Epoch 14/20\n",
      "1875/1875 [==============================] - 341s 182ms/step - loss: 0.1955 - accuracy: 0.9323 - val_loss: 0.1320 - val_accuracy: 0.9504\n",
      "Epoch 15/20\n",
      "1875/1875 [==============================] - 339s 181ms/step - loss: 0.1937 - accuracy: 0.9346 - val_loss: 0.1462 - val_accuracy: 0.9448\n",
      "Epoch 16/20\n",
      "1875/1875 [==============================] - 334s 178ms/step - loss: 0.1797 - accuracy: 0.9380 - val_loss: 0.1377 - val_accuracy: 0.9482\n",
      "Epoch 17/20\n",
      "1875/1875 [==============================] - 338s 180ms/step - loss: 0.1771 - accuracy: 0.9395 - val_loss: 0.1261 - val_accuracy: 0.9530\n",
      "Epoch 18/20\n",
      "1875/1875 [==============================] - 338s 180ms/step - loss: 0.1744 - accuracy: 0.9412 - val_loss: 0.1212 - val_accuracy: 0.9536\n",
      "Epoch 19/20\n",
      "1875/1875 [==============================] - 340s 181ms/step - loss: 0.1675 - accuracy: 0.9440 - val_loss: 0.1203 - val_accuracy: 0.9536\n",
      "Epoch 20/20\n",
      "1875/1875 [==============================] - 339s 181ms/step - loss: 0.1734 - accuracy: 0.9427 - val_loss: 0.1166 - val_accuracy: 0.9562\n"
     ]
    }
   ],
   "source": [
    "history = model.fit(X, y, validation_data=(X_val, y_val), epochs=20, callbacks=[checkpoint_cb, early_stopping_cb])"
   ]
  },
  {
   "cell_type": "code",
   "execution_count": 15,
   "id": "d4f2c5e2",
   "metadata": {
    "execution": {
     "iopub.execute_input": "2022-10-06T11:24:16.177618Z",
     "iopub.status.busy": "2022-10-06T11:24:16.177147Z",
     "iopub.status.idle": "2022-10-06T11:24:16.441598Z",
     "shell.execute_reply": "2022-10-06T11:24:16.440374Z"
    },
    "papermill": {
     "duration": 2.720059,
     "end_time": "2022-10-06T11:24:16.444256",
     "exception": false,
     "start_time": "2022-10-06T11:24:13.724197",
     "status": "completed"
    },
    "tags": []
   },
   "outputs": [
    {
     "data": {
      "image/png": "[encoded data removed]",
      "text/plain": [
       "<Figure size 432x288 with 1 Axes>"
      ]
     },
     "metadata": {
      "needs_background": "light"
     },
     "output_type": "display_data"
    }
   ],
   "source": [
    "pd.DataFrame(history.history).plot()\n",
    "plt.show()"
   ]
  },
  {
   "cell_type": "code",
   "execution_count": 16,
   "id": "4136b922",
   "metadata": {
    "execution": {
     "iopub.execute_input": "2022-10-06T11:24:21.341665Z",
     "iopub.status.busy": "2022-10-06T11:24:21.340652Z",
     "iopub.status.idle": "2022-10-06T11:24:21.412924Z",
     "shell.execute_reply": "2022-10-06T11:24:21.411597Z"
    },
    "papermill": {
     "duration": 2.527168,
     "end_time": "2022-10-06T11:24:21.416355",
     "exception": false,
     "start_time": "2022-10-06T11:24:18.889187",
     "status": "completed"
    },
    "tags": []
   },
   "outputs": [],
   "source": [
    "model.save('/kaggle/working/manual_save_model.h5')"
   ]
  },
  {
   "cell_type": "code",
   "execution_count": 17,
   "id": "1b9e5d11",
   "metadata": {
    "execution": {
     "iopub.execute_input": "2022-10-06T11:24:26.446627Z",
     "iopub.status.busy": "2022-10-06T11:24:26.445706Z",
     "iopub.status.idle": "2022-10-06T11:24:26.627527Z",
     "shell.execute_reply": "2022-10-06T11:24:26.626417Z"
    },
    "papermill": {
     "duration": 2.668912,
     "end_time": "2022-10-06T11:24:26.630237",
     "exception": false,
     "start_time": "2022-10-06T11:24:23.961325",
     "status": "completed"
    },
    "tags": []
   },
   "outputs": [],
   "source": [
    "model = keras.models.load_model(\"/kaggle/working/sequntial_model.h5\")"
   ]
  },
  {
   "cell_type": "code",
   "execution_count": 18,
   "id": "9b65c526",
   "metadata": {
    "execution": {
     "iopub.execute_input": "2022-10-06T11:24:31.487235Z",
     "iopub.status.busy": "2022-10-06T11:24:31.486378Z",
     "iopub.status.idle": "2022-10-06T11:24:31.493625Z",
     "shell.execute_reply": "2022-10-06T11:24:31.492720Z"
    },
    "papermill": {
     "duration": 2.458762,
     "end_time": "2022-10-06T11:24:31.496143",
     "exception": false,
     "start_time": "2022-10-06T11:24:29.037381",
     "status": "completed"
    },
    "tags": []
   },
   "outputs": [
    {
     "data": {
      "text/plain": [
       "(10000, 28, 28, 1)"
      ]
     },
     "execution_count": 18,
     "metadata": {},
     "output_type": "execute_result"
    }
   ],
   "source": [
    "X_test.shape"
   ]
  },
  {
   "cell_type": "code",
   "execution_count": 19,
   "id": "b502cb1d",
   "metadata": {
    "execution": {
     "iopub.execute_input": "2022-10-06T11:24:36.409370Z",
     "iopub.status.busy": "2022-10-06T11:24:36.408402Z",
     "iopub.status.idle": "2022-10-06T11:24:53.256937Z",
     "shell.execute_reply": "2022-10-06T11:24:53.255728Z"
    },
    "papermill": {
     "duration": 19.29173,
     "end_time": "2022-10-06T11:24:53.259408",
     "exception": false,
     "start_time": "2022-10-06T11:24:33.967678",
     "status": "completed"
    },
    "tags": []
   },
   "outputs": [
    {
     "data": {
      "text/plain": [
       "array([0, 1, 2, ..., 8, 8, 1])"
      ]
     },
     "execution_count": 19,
     "metadata": {},
     "output_type": "execute_result"
    }
   ],
   "source": [
    "y_pred = np.argmax(model.predict(X_test), axis=1)\n",
    "y_pred"
   ]
  },
  {
   "cell_type": "code",
   "execution_count": 20,
   "id": "4d98adb9",
   "metadata": {
    "execution": {
     "iopub.execute_input": "2022-10-06T11:24:58.180353Z",
     "iopub.status.busy": "2022-10-06T11:24:58.179942Z",
     "iopub.status.idle": "2022-10-06T11:24:58.208531Z",
     "shell.execute_reply": "2022-10-06T11:24:58.207334Z"
    },
    "papermill": {
     "duration": 2.451369,
     "end_time": "2022-10-06T11:24:58.210974",
     "exception": false,
     "start_time": "2022-10-06T11:24:55.759605",
     "status": "completed"
    },
    "tags": []
   },
   "outputs": [
    {
     "data": {
      "text/plain": [
       "0.9183"
      ]
     },
     "execution_count": 20,
     "metadata": {},
     "output_type": "execute_result"
    }
   ],
   "source": [
    "accuracy = sum(y_pred==y_test)/y_pred.size\n",
    "accuracy"
   ]
  },
  {
   "cell_type": "code",
   "execution_count": null,
   "id": "a1a0ab11",
   "metadata": {
    "papermill": {
     "duration": 2.434812,
     "end_time": "2022-10-06T11:25:03.048627",
     "exception": false,
     "start_time": "2022-10-06T11:25:00.613815",
     "status": "completed"
    },
    "tags": []
   },
   "outputs": [],
   "source": []
  }
 ],
 "metadata": {
  "kernelspec": {
   "display_name": "Python 3",
   "language": "python",
   "name": "python3"
  },
  "language_info": {
   "codemirror_mode": {
    "name": "ipython",
    "version": 3
   },
   "file_extension": ".py",
   "mimetype": "text/x-python",
   "name": "python",
   "nbconvert_exporter": "python",
   "pygments_lexer": "ipython3",
   "version": "3.7.12"
  },
  "papermill": {
   "default_parameters": {},
   "duration": 7045.364609,
   "end_time": "2022-10-06T11:25:08.201932",
   "environment_variables": {},
   "exception": null,
   "input_path": "__notebook__.ipynb",
   "output_path": "__notebook__.ipynb",
   "parameters": {},
   "start_time": "2022-10-06T09:27:42.837323",
   "version": "2.3.4"
  }
 },
 "nbformat": 4,
 "nbformat_minor": 5
}
